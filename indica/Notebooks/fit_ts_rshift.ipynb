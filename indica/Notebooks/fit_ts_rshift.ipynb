{
 "cells": [
  {
   "cell_type": "code",
   "execution_count": 1,
   "metadata": {},
   "outputs": [
    {
     "ename": "ImportError",
     "evalue": "cannot import name 'ST40Reader' from 'indica.readers' (/Users/lavoro/Work/Python/Indica/.venv/lib/python3.9/site-packages/indica/readers/__init__.py)",
     "output_type": "error",
     "traceback": [
      "\u001b[0;31m---------------------------------------------------------------------------\u001b[0m",
      "\u001b[0;31mImportError\u001b[0m                               Traceback (most recent call last)",
      "Cell \u001b[0;32mIn[1], line 7\u001b[0m\n\u001b[1;32m      4\u001b[0m \u001b[38;5;28;01mfrom\u001b[39;00m \u001b[38;5;21;01mxarray\u001b[39;00m \u001b[38;5;28;01mimport\u001b[39;00m DataArray\n\u001b[1;32m      6\u001b[0m \u001b[38;5;28;01mfrom\u001b[39;00m \u001b[38;5;21;01mindica\u001b[39;00m\u001b[38;5;21;01m.\u001b[39;00m\u001b[38;5;21;01moperators\u001b[39;00m\u001b[38;5;21;01m.\u001b[39;00m\u001b[38;5;21;01mspline_fit_R_shift\u001b[39;00m \u001b[38;5;28;01mimport\u001b[39;00m fit_profile_and_R_shift\n\u001b[0;32m----> 7\u001b[0m \u001b[38;5;28;01mfrom\u001b[39;00m \u001b[38;5;21;01mindica\u001b[39;00m\u001b[38;5;21;01m.\u001b[39;00m\u001b[38;5;21;01mreaders\u001b[39;00m\u001b[38;5;21;01m.\u001b[39;00m\u001b[38;5;21;01mread_st40\u001b[39;00m \u001b[38;5;28;01mimport\u001b[39;00m ReadST40\n\u001b[1;32m      8\u001b[0m \u001b[38;5;28;01mfrom\u001b[39;00m \u001b[38;5;21;01mindica\u001b[39;00m\u001b[38;5;21;01m.\u001b[39;00m\u001b[38;5;21;01mutilities\u001b[39;00m \u001b[38;5;28;01mimport\u001b[39;00m FIG_PATH\n\u001b[1;32m      9\u001b[0m \u001b[38;5;28;01mfrom\u001b[39;00m \u001b[38;5;21;01mindica\u001b[39;00m\u001b[38;5;21;01m.\u001b[39;00m\u001b[38;5;21;01mutilities\u001b[39;00m \u001b[38;5;28;01mimport\u001b[39;00m save_figure\n",
      "File \u001b[0;32m~/Work/Python/Indica/.venv/lib/python3.9/site-packages/indica/readers/read_st40.py:12\u001b[0m\n\u001b[1;32m     10\u001b[0m \u001b[38;5;28;01mfrom\u001b[39;00m \u001b[38;5;21;01mindica\u001b[39;00m\u001b[38;5;21;01m.\u001b[39;00m\u001b[38;5;21;01mequilibrium\u001b[39;00m \u001b[38;5;28;01mimport\u001b[39;00m Equilibrium\n\u001b[1;32m     11\u001b[0m \u001b[38;5;28;01mfrom\u001b[39;00m \u001b[38;5;21;01mindica\u001b[39;00m\u001b[38;5;21;01m.\u001b[39;00m\u001b[38;5;21;01mnumpy_typing\u001b[39;00m \u001b[38;5;28;01mimport\u001b[39;00m RevisionLike\n\u001b[0;32m---> 12\u001b[0m \u001b[38;5;28;01mfrom\u001b[39;00m \u001b[38;5;21;01mindica\u001b[39;00m\u001b[38;5;21;01m.\u001b[39;00m\u001b[38;5;21;01mreaders\u001b[39;00m \u001b[38;5;28;01mimport\u001b[39;00m ST40Reader\n\u001b[1;32m     13\u001b[0m \u001b[38;5;28;01mfrom\u001b[39;00m \u001b[38;5;21;01mindica\u001b[39;00m\u001b[38;5;21;01m.\u001b[39;00m\u001b[38;5;21;01mutilities\u001b[39;00m \u001b[38;5;28;01mimport\u001b[39;00m print_like\n\u001b[1;32m     15\u001b[0m INSTRUMENTS: \u001b[38;5;28mlist\u001b[39m \u001b[38;5;241m=\u001b[39m [\n\u001b[1;32m     16\u001b[0m     \u001b[38;5;124m\"\u001b[39m\u001b[38;5;124mefit\u001b[39m\u001b[38;5;124m\"\u001b[39m,\n\u001b[1;32m     17\u001b[0m     \u001b[38;5;124m\"\u001b[39m\u001b[38;5;124mlines\u001b[39m\u001b[38;5;124m\"\u001b[39m,\n\u001b[0;32m   (...)\u001b[0m\n\u001b[1;32m     32\u001b[0m     \u001b[38;5;124m\"\u001b[39m\u001b[38;5;124mtws_c\u001b[39m\u001b[38;5;124m\"\u001b[39m,\n\u001b[1;32m     33\u001b[0m ]\n",
      "\u001b[0;31mImportError\u001b[0m: cannot import name 'ST40Reader' from 'indica.readers' (/Users/lavoro/Work/Python/Indica/.venv/lib/python3.9/site-packages/indica/readers/__init__.py)"
     ]
    }
   ],
   "source": [
    "import matplotlib.pylab as plt\n",
    "import numpy as np\n",
    "import xarray as xr\n",
    "from xarray import DataArray\n",
    "\n",
    "from indica.operators.spline_fit_R_shift import fit_profile_and_R_shift\n",
    "from indica.readers.read_st40 import ReadST40\n",
    "from indica.utilities import FIG_PATH\n",
    "from indica.utilities import save_figure\n",
    "from indica.utilities import set_plot_colors"
   ]
  },
  {
   "cell_type": "code",
   "execution_count": null,
   "metadata": {},
   "outputs": [],
   "source": [
    "pulse: int = 11314\n",
    "tstart: float = 0.04\n",
    "tend: float = 0.13\n",
    "dt: float = 0.01\n",
    "\n",
    "st40 = ReadST40(pulse, tstart=tstart, tend=tend, dt=dt)\n",
    "st40([\"ts\"], set_equilibrium=True)\n",
    "te_data = st40.raw_data[\"ts\"][\"te\"]\n",
    "te_err = st40.raw_data[\"ts\"][\"te\"].error\n",
    "ne_data = st40.raw_data[\"ts\"][\"ne\"]\n",
    "ne_err = st40.raw_data[\"ts\"][\"ne\"].error\n",
    "time = te_data.t"
   ]
  },
  {
   "cell_type": "code",
   "execution_count": null,
   "metadata": {},
   "outputs": [],
   "source": [
    "verbose: bool = False\n",
    "\n",
    "ts_R = te_data.R\n",
    "ts_z = te_data.z\n",
    "equilibrium = te_data.transform.equilibrium\n",
    "print(\"  Te\")\n",
    "te_fit, te_R_shift, te_rho = fit_profile_and_R_shift(\n",
    "    ts_R,\n",
    "    ts_z,\n",
    "    te_data,\n",
    "    te_err,\n",
    "    xknots=[0, 0.4, 0.6, 0.8, 1.1],\n",
    "    equilibrium=equilibrium,\n",
    "    R_shift=None,\n",
    "    verbose=verbose,\n",
    ")\n",
    "print(\"  Ne\")\n",
    "ne_fit, ne_R_shift, ne_rho = fit_profile_and_R_shift(\n",
    "    ts_R,\n",
    "    ts_z,\n",
    "    ne_data,\n",
    "    ne_err,\n",
    "    xknots=[0, 0.4, 0.85, 0.9, 0.98, 1.1],\n",
    "    equilibrium=equilibrium,\n",
    "    R_shift=te_R_shift,\n",
    "    verbose=verbose,\n",
    ")\n",
    "\n",
    "te_fit.attrs[\"R_shift\"] = te_R_shift\n",
    "ne_fit.attrs[\"R_shift\"] = ne_R_shift\n",
    "te_data.attrs[\"rho\"] = te_rho\n",
    "ne_data.attrs[\"rho\"] = ne_rho"
   ]
  },
  {
   "cell_type": "code",
   "execution_count": null,
   "metadata": {},
   "outputs": [],
   "source": [
    "\n",
    "nplot: int = 2\n",
    "save_fig: bool = False\n",
    "\n",
    "cm, cols = set_plot_colors()\n",
    "\n",
    "cols = cm(np.linspace(0.1, 0.75, len(time), dtype=float))\n",
    "\n",
    "plt.figure()\n",
    "_R_shift = [f\"{(ne_fit.R_shift.sel(t=t).values * 100):.1f}\" for t in time]\n",
    "for i, t in enumerate(time.values):\n",
    "    if i % nplot:\n",
    "        continue\n",
    "    plt.errorbar(\n",
    "        ne_data.rho.sel(t=t),\n",
    "        ne_data.sel(t=t),\n",
    "        ne_data.error.sel(t=t),\n",
    "        color=cols[i],\n",
    "        marker=\"o\",\n",
    "        label=rf\"t={int(t*1.e3)} ms $\\delta$R={_R_shift[i]} cm\",\n",
    "        alpha=0.6,\n",
    "    )\n",
    "    ne_fit.sel(t=t).plot(color=cols[i], linewidth=4, zorder=0)\n",
    "plt.ylabel(\"Ne (m${-3}$)\")\n",
    "plt.xlabel(\"Rho-poloidal\")\n",
    "plt.title(f\"{pulse} TS Ne data & fits\")\n",
    "plt.xlim(0, 1.1)\n",
    "plt.ylim(0, np.nanmax(ne_fit) * 1.2)\n",
    "plt.legend()\n",
    "if save_fig:\n",
    "    save_figure(FIG_PATH, f\"{pulse}_TS_Ne_fits\", save_fig=save_fig)\n",
    "\n",
    "plt.figure()\n",
    "for i, t in enumerate(time.values):\n",
    "    if i % nplot:\n",
    "        continue\n",
    "    plt.errorbar(\n",
    "        te_data.rho.sel(t=t),\n",
    "        te_data.sel(t=t),\n",
    "        te_data.error.sel(t=t),\n",
    "        color=cols[i],\n",
    "        marker=\"o\",\n",
    "        label=rf\"t={int(t*1.e3)} ms $\\delta$R={_R_shift[i]} cm\",\n",
    "        alpha=0.6,\n",
    "    )\n",
    "    te_fit.sel(t=t).plot(color=cols[i], linewidth=4, zorder=0)\n",
    "plt.ylabel(\"Te (eV)\")\n",
    "plt.xlabel(\"Rho-poloidal\")\n",
    "plt.title(f\"{pulse} TS Te data & fits\")\n",
    "plt.xlim(0, 1.1)\n",
    "plt.ylim(0, np.nanmax(te_fit) * 1.2)\n",
    "plt.legend()\n",
    "if save_fig:\n",
    "    save_figure(FIG_PATH, f\"{pulse}_TS_Te_fits\", save_fig=save_fig)\n"
   ]
  }
 ],
 "metadata": {
  "kernelspec": {
   "display_name": ".venv",
   "language": "python",
   "name": "python3"
  },
  "language_info": {
   "codemirror_mode": {
    "name": "ipython",
    "version": 3
   },
   "file_extension": ".py",
   "mimetype": "text/x-python",
   "name": "python",
   "nbconvert_exporter": "python",
   "pygments_lexer": "ipython3",
   "version": "3.9.2"
  }
 },
 "nbformat": 4,
 "nbformat_minor": 2
}
